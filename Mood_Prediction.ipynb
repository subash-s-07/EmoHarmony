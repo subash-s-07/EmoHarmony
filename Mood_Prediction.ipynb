{
  "cells": [
    {
      "cell_type": "code",
      "execution_count": null,
      "metadata": {
        "id": "nqW2HI4Vq55W"
      },
      "outputs": [],
      "source": [
        "%matplotlib inline\n",
        "import numpy as np\n",
        "import pandas as pd\n",
        "import matplotlib.pyplot as plt\n",
        "import seaborn as sns\n",
        "import warnings\n",
        "import requests\n",
        "import json\n",
        "warnings.filterwarnings(\"ignore\")"
      ]
    },
    {
      "cell_type": "code",
      "execution_count": null,
      "metadata": {
        "colab": {
          "base_uri": "https://localhost:8080/"
        },
        "id": "8_59Bw3Pq55Z",
        "outputId": "4eb18e17-aa29-4105-c02a-46f88025f6f6"
      },
      "outputs": [
        {
          "output_type": "stream",
          "name": "stderr",
          "text": [
            "[nltk_data] Downloading package punkt to /root/nltk_data...\n",
            "[nltk_data]   Unzipping tokenizers/punkt.zip.\n",
            "[nltk_data] Downloading package wordnet to /root/nltk_data...\n",
            "[nltk_data] Downloading package stopwords to /root/nltk_data...\n",
            "[nltk_data]   Unzipping corpora/stopwords.zip.\n",
            "[nltk_data] Downloading package averaged_perceptron_tagger to\n",
            "[nltk_data]     /root/nltk_data...\n",
            "[nltk_data]   Unzipping taggers/averaged_perceptron_tagger.zip.\n"
          ]
        },
        {
          "output_type": "execute_result",
          "data": {
            "text/plain": [
              "True"
            ]
          },
          "metadata": {},
          "execution_count": 2
        }
      ],
      "source": [
        "import pandas as pd\n",
        "import numpy as np\n",
        "from nltk.tokenize import word_tokenize\n",
        "from nltk import pos_tag\n",
        "from nltk.corpus import stopwords\n",
        "from nltk.stem import WordNetLemmatizer\n",
        "from sklearn.preprocessing import LabelEncoder\n",
        "from collections import defaultdict\n",
        "from nltk.corpus import wordnet as wn\n",
        "from sklearn.ensemble import RandomForestClassifier\n",
        "import nltk\n",
        "nltk.download('punkt')\n",
        "nltk.download('wordnet')\n",
        "nltk.download('stopwords')\n",
        "nltk.download('averaged_perceptron_tagger')"
      ]
    },
    {
      "cell_type": "code",
      "execution_count": null,
      "metadata": {
        "id": "vjyy9rEsq55a"
      },
      "outputs": [],
      "source": [
        "df=pd.read_csv(\"training_backup.csv\")\n",
        "df_new=pd.read_csv(\"testing_backup.csv\")"
      ]
    },
    {
      "cell_type": "markdown",
      "metadata": {
        "id": "8WZ4EA-Vq55b"
      },
      "source": [
        "### Tokenization of words in lyrics\n",
        "\n",
        "###Converting into lowercase letters and splitting each word and storing it as a dataframe"
      ]
    },
    {
      "cell_type": "code",
      "execution_count": null,
      "metadata": {
        "id": "iDC0cfaDq55d"
      },
      "outputs": [],
      "source": [
        "df_new['lyrics'] = [entry.lower() for entry in df_new['lyrics']]\n",
        "df_new['lyrics']= [word_tokenize(entry) for entry in df_new['lyrics']]"
      ]
    },
    {
      "cell_type": "code",
      "execution_count": null,
      "metadata": {
        "id": "ddDoVWc7q55g"
      },
      "outputs": [],
      "source": [
        "df['lyrics'] = [entry.lower() for entry in df['lyrics']]\n",
        "df['lyrics']= [word_tokenize(entry) for entry in df['lyrics']]"
      ]
    },
    {
      "cell_type": "markdown",
      "source": [
        "### lyrics column in the df_new DataFrame will have been lemmatized, and the lemmatized words are stored in the text_final column\n",
        "\n",
        "For each sentence Noun adjective adverb adverb is added with mapping\n",
        "Adding root words like acting -> act"
      ],
      "metadata": {
        "id": "IyPiI5ca8QGI"
      }
    },
    {
      "cell_type": "code",
      "execution_count": null,
      "metadata": {
        "scrolled": true,
        "id": "5IFx4z3pq55k"
      },
      "outputs": [],
      "source": [
        "tag_map = defaultdict(lambda : wn.NOUN)\n",
        "tag_map['J'] = wn.ADJ\n",
        "tag_map['V'] = wn.VERB\n",
        "tag_map['R'] = wn.ADV\n",
        "for index,entry in enumerate(df_new['lyrics']):\n",
        "    Final_words = []\n",
        "    word_Lemmatized = WordNetLemmatizer()\n",
        "    for word, tag in pos_tag(entry):\n",
        "        if word not in stopwords.words('english') and word.isalpha():\n",
        "            word_Final = word_Lemmatized.lemmatize(word,tag_map[tag[0]])\n",
        "            Final_words.append(word_Final)\n",
        "    df_new.loc[index,'text_final'] = str(Final_words)"
      ]
    },
    {
      "cell_type": "code",
      "execution_count": null,
      "metadata": {
        "id": "CaBluAnJq55m",
        "colab": {
          "base_uri": "https://localhost:8080/",
          "height": 206
        },
        "outputId": "bbb53241-14fa-4cb2-d72e-dcb9b5f9c8af"
      },
      "outputs": [
        {
          "output_type": "execute_result",
          "data": {
            "text/plain": [
              "                                                 lyrics  mood\n",
              "1477  [yeah-yeah, yeah-yeah, yeah-yeah, yeah-yeah, y...     1\n",
              "1478  [rip, them, down, hold, me, up, tell, them, th...     3\n",
              "1479  [it, 's, way, too, late, to, think, of, someon...     4\n",
              "1480  [got, no, place, to, go, but, there, 's, a, gi...     2\n",
              "1481  [every, light, in, the, night, flicker, in, an...     1"
            ],
            "text/html": [
              "\n",
              "  <div id=\"df-ca42c75c-5895-49b6-9be0-6bcfbea3be5a\" class=\"colab-df-container\">\n",
              "    <div>\n",
              "<style scoped>\n",
              "    .dataframe tbody tr th:only-of-type {\n",
              "        vertical-align: middle;\n",
              "    }\n",
              "\n",
              "    .dataframe tbody tr th {\n",
              "        vertical-align: top;\n",
              "    }\n",
              "\n",
              "    .dataframe thead th {\n",
              "        text-align: right;\n",
              "    }\n",
              "</style>\n",
              "<table border=\"1\" class=\"dataframe\">\n",
              "  <thead>\n",
              "    <tr style=\"text-align: right;\">\n",
              "      <th></th>\n",
              "      <th>lyrics</th>\n",
              "      <th>mood</th>\n",
              "    </tr>\n",
              "  </thead>\n",
              "  <tbody>\n",
              "    <tr>\n",
              "      <th>1477</th>\n",
              "      <td>[yeah-yeah, yeah-yeah, yeah-yeah, yeah-yeah, y...</td>\n",
              "      <td>1</td>\n",
              "    </tr>\n",
              "    <tr>\n",
              "      <th>1478</th>\n",
              "      <td>[rip, them, down, hold, me, up, tell, them, th...</td>\n",
              "      <td>3</td>\n",
              "    </tr>\n",
              "    <tr>\n",
              "      <th>1479</th>\n",
              "      <td>[it, 's, way, too, late, to, think, of, someon...</td>\n",
              "      <td>4</td>\n",
              "    </tr>\n",
              "    <tr>\n",
              "      <th>1480</th>\n",
              "      <td>[got, no, place, to, go, but, there, 's, a, gi...</td>\n",
              "      <td>2</td>\n",
              "    </tr>\n",
              "    <tr>\n",
              "      <th>1481</th>\n",
              "      <td>[every, light, in, the, night, flicker, in, an...</td>\n",
              "      <td>1</td>\n",
              "    </tr>\n",
              "  </tbody>\n",
              "</table>\n",
              "</div>\n",
              "    <div class=\"colab-df-buttons\">\n",
              "\n",
              "  <div class=\"colab-df-container\">\n",
              "    <button class=\"colab-df-convert\" onclick=\"convertToInteractive('df-ca42c75c-5895-49b6-9be0-6bcfbea3be5a')\"\n",
              "            title=\"Convert this dataframe to an interactive table.\"\n",
              "            style=\"display:none;\">\n",
              "\n",
              "  <svg xmlns=\"http://www.w3.org/2000/svg\" height=\"24px\" viewBox=\"0 -960 960 960\">\n",
              "    <path d=\"M120-120v-720h720v720H120Zm60-500h600v-160H180v160Zm220 220h160v-160H400v160Zm0 220h160v-160H400v160ZM180-400h160v-160H180v160Zm440 0h160v-160H620v160ZM180-180h160v-160H180v160Zm440 0h160v-160H620v160Z\"/>\n",
              "  </svg>\n",
              "    </button>\n",
              "\n",
              "  <style>\n",
              "    .colab-df-container {\n",
              "      display:flex;\n",
              "      gap: 12px;\n",
              "    }\n",
              "\n",
              "    .colab-df-convert {\n",
              "      background-color: #E8F0FE;\n",
              "      border: none;\n",
              "      border-radius: 50%;\n",
              "      cursor: pointer;\n",
              "      display: none;\n",
              "      fill: #1967D2;\n",
              "      height: 32px;\n",
              "      padding: 0 0 0 0;\n",
              "      width: 32px;\n",
              "    }\n",
              "\n",
              "    .colab-df-convert:hover {\n",
              "      background-color: #E2EBFA;\n",
              "      box-shadow: 0px 1px 2px rgba(60, 64, 67, 0.3), 0px 1px 3px 1px rgba(60, 64, 67, 0.15);\n",
              "      fill: #174EA6;\n",
              "    }\n",
              "\n",
              "    .colab-df-buttons div {\n",
              "      margin-bottom: 4px;\n",
              "    }\n",
              "\n",
              "    [theme=dark] .colab-df-convert {\n",
              "      background-color: #3B4455;\n",
              "      fill: #D2E3FC;\n",
              "    }\n",
              "\n",
              "    [theme=dark] .colab-df-convert:hover {\n",
              "      background-color: #434B5C;\n",
              "      box-shadow: 0px 1px 3px 1px rgba(0, 0, 0, 0.15);\n",
              "      filter: drop-shadow(0px 1px 2px rgba(0, 0, 0, 0.3));\n",
              "      fill: #FFFFFF;\n",
              "    }\n",
              "  </style>\n",
              "\n",
              "    <script>\n",
              "      const buttonEl =\n",
              "        document.querySelector('#df-ca42c75c-5895-49b6-9be0-6bcfbea3be5a button.colab-df-convert');\n",
              "      buttonEl.style.display =\n",
              "        google.colab.kernel.accessAllowed ? 'block' : 'none';\n",
              "\n",
              "      async function convertToInteractive(key) {\n",
              "        const element = document.querySelector('#df-ca42c75c-5895-49b6-9be0-6bcfbea3be5a');\n",
              "        const dataTable =\n",
              "          await google.colab.kernel.invokeFunction('convertToInteractive',\n",
              "                                                    [key], {});\n",
              "        if (!dataTable) return;\n",
              "\n",
              "        const docLinkHtml = 'Like what you see? Visit the ' +\n",
              "          '<a target=\"_blank\" href=https://colab.research.google.com/notebooks/data_table.ipynb>data table notebook</a>'\n",
              "          + ' to learn more about interactive tables.';\n",
              "        element.innerHTML = '';\n",
              "        dataTable['output_type'] = 'display_data';\n",
              "        await google.colab.output.renderOutput(dataTable, element);\n",
              "        const docLink = document.createElement('div');\n",
              "        docLink.innerHTML = docLinkHtml;\n",
              "        element.appendChild(docLink);\n",
              "      }\n",
              "    </script>\n",
              "  </div>\n",
              "\n",
              "\n",
              "<div id=\"df-1b11e665-6248-49ff-9c9d-f160a0e0547f\">\n",
              "  <button class=\"colab-df-quickchart\" onclick=\"quickchart('df-1b11e665-6248-49ff-9c9d-f160a0e0547f')\"\n",
              "            title=\"Suggest charts.\"\n",
              "            style=\"display:none;\">\n",
              "\n",
              "<svg xmlns=\"http://www.w3.org/2000/svg\" height=\"24px\"viewBox=\"0 0 24 24\"\n",
              "     width=\"24px\">\n",
              "    <g>\n",
              "        <path d=\"M19 3H5c-1.1 0-2 .9-2 2v14c0 1.1.9 2 2 2h14c1.1 0 2-.9 2-2V5c0-1.1-.9-2-2-2zM9 17H7v-7h2v7zm4 0h-2V7h2v10zm4 0h-2v-4h2v4z\"/>\n",
              "    </g>\n",
              "</svg>\n",
              "  </button>\n",
              "\n",
              "<style>\n",
              "  .colab-df-quickchart {\n",
              "      --bg-color: #E8F0FE;\n",
              "      --fill-color: #1967D2;\n",
              "      --hover-bg-color: #E2EBFA;\n",
              "      --hover-fill-color: #174EA6;\n",
              "      --disabled-fill-color: #AAA;\n",
              "      --disabled-bg-color: #DDD;\n",
              "  }\n",
              "\n",
              "  [theme=dark] .colab-df-quickchart {\n",
              "      --bg-color: #3B4455;\n",
              "      --fill-color: #D2E3FC;\n",
              "      --hover-bg-color: #434B5C;\n",
              "      --hover-fill-color: #FFFFFF;\n",
              "      --disabled-bg-color: #3B4455;\n",
              "      --disabled-fill-color: #666;\n",
              "  }\n",
              "\n",
              "  .colab-df-quickchart {\n",
              "    background-color: var(--bg-color);\n",
              "    border: none;\n",
              "    border-radius: 50%;\n",
              "    cursor: pointer;\n",
              "    display: none;\n",
              "    fill: var(--fill-color);\n",
              "    height: 32px;\n",
              "    padding: 0;\n",
              "    width: 32px;\n",
              "  }\n",
              "\n",
              "  .colab-df-quickchart:hover {\n",
              "    background-color: var(--hover-bg-color);\n",
              "    box-shadow: 0 1px 2px rgba(60, 64, 67, 0.3), 0 1px 3px 1px rgba(60, 64, 67, 0.15);\n",
              "    fill: var(--button-hover-fill-color);\n",
              "  }\n",
              "\n",
              "  .colab-df-quickchart-complete:disabled,\n",
              "  .colab-df-quickchart-complete:disabled:hover {\n",
              "    background-color: var(--disabled-bg-color);\n",
              "    fill: var(--disabled-fill-color);\n",
              "    box-shadow: none;\n",
              "  }\n",
              "\n",
              "  .colab-df-spinner {\n",
              "    border: 2px solid var(--fill-color);\n",
              "    border-color: transparent;\n",
              "    border-bottom-color: var(--fill-color);\n",
              "    animation:\n",
              "      spin 1s steps(1) infinite;\n",
              "  }\n",
              "\n",
              "  @keyframes spin {\n",
              "    0% {\n",
              "      border-color: transparent;\n",
              "      border-bottom-color: var(--fill-color);\n",
              "      border-left-color: var(--fill-color);\n",
              "    }\n",
              "    20% {\n",
              "      border-color: transparent;\n",
              "      border-left-color: var(--fill-color);\n",
              "      border-top-color: var(--fill-color);\n",
              "    }\n",
              "    30% {\n",
              "      border-color: transparent;\n",
              "      border-left-color: var(--fill-color);\n",
              "      border-top-color: var(--fill-color);\n",
              "      border-right-color: var(--fill-color);\n",
              "    }\n",
              "    40% {\n",
              "      border-color: transparent;\n",
              "      border-right-color: var(--fill-color);\n",
              "      border-top-color: var(--fill-color);\n",
              "    }\n",
              "    60% {\n",
              "      border-color: transparent;\n",
              "      border-right-color: var(--fill-color);\n",
              "    }\n",
              "    80% {\n",
              "      border-color: transparent;\n",
              "      border-right-color: var(--fill-color);\n",
              "      border-bottom-color: var(--fill-color);\n",
              "    }\n",
              "    90% {\n",
              "      border-color: transparent;\n",
              "      border-bottom-color: var(--fill-color);\n",
              "    }\n",
              "  }\n",
              "</style>\n",
              "\n",
              "  <script>\n",
              "    async function quickchart(key) {\n",
              "      const quickchartButtonEl =\n",
              "        document.querySelector('#' + key + ' button');\n",
              "      quickchartButtonEl.disabled = true;  // To prevent multiple clicks.\n",
              "      quickchartButtonEl.classList.add('colab-df-spinner');\n",
              "      try {\n",
              "        const charts = await google.colab.kernel.invokeFunction(\n",
              "            'suggestCharts', [key], {});\n",
              "      } catch (error) {\n",
              "        console.error('Error during call to suggestCharts:', error);\n",
              "      }\n",
              "      quickchartButtonEl.classList.remove('colab-df-spinner');\n",
              "      quickchartButtonEl.classList.add('colab-df-quickchart-complete');\n",
              "    }\n",
              "    (() => {\n",
              "      let quickchartButtonEl =\n",
              "        document.querySelector('#df-1b11e665-6248-49ff-9c9d-f160a0e0547f button');\n",
              "      quickchartButtonEl.style.display =\n",
              "        google.colab.kernel.accessAllowed ? 'block' : 'none';\n",
              "    })();\n",
              "  </script>\n",
              "</div>\n",
              "    </div>\n",
              "  </div>\n"
            ]
          },
          "metadata": {},
          "execution_count": 7
        }
      ],
      "source": [
        "df.tail()"
      ]
    },
    {
      "cell_type": "code",
      "execution_count": null,
      "metadata": {
        "id": "gz4F6hgDq55n"
      },
      "outputs": [],
      "source": [
        "tag_map = defaultdict(lambda : wn.NOUN)\n",
        "tag_map['J'] = wn.ADJ\n",
        "tag_map['V'] = wn.VERB\n",
        "tag_map['R'] = wn.ADV\n",
        "for index,entry in enumerate(df['lyrics']):\n",
        "    Final_words = []\n",
        "    word_Lemmatized = WordNetLemmatizer()\n",
        "    for word, tag in pos_tag(entry):\n",
        "        if word not in stopwords.words('english') and word.isalpha():\n",
        "            word_Final = word_Lemmatized.lemmatize(word,tag_map[tag[0]])\n",
        "            Final_words.append(word_Final)\n",
        "    df.loc[index,'text_final'] = str(Final_words)"
      ]
    },
    {
      "cell_type": "code",
      "execution_count": null,
      "metadata": {
        "id": "2A8xXH56q55o"
      },
      "outputs": [],
      "source": [
        "train_x = df['text_final']\n",
        "valid_x = df_new['text_final'][:233]\n",
        "train_y = df['mood']\n",
        "valid_y = df_new['mood'][:233]"
      ]
    },
    {
      "cell_type": "markdown",
      "metadata": {
        "id": "Si6fvJfnq55q"
      },
      "source": [
        "#### CountVectorizer\n",
        "#### TfidfVectorizer\n",
        "#### Tfidf-NGram Model\n",
        "\n",
        "train_y and valid_y will contain the encoded numerical labels, and the all_texts list will contain all the text data from both the training and validation datasets"
      ]
    },
    {
      "cell_type": "code",
      "execution_count": null,
      "metadata": {
        "id": "zM-fi8m8q55r"
      },
      "outputs": [],
      "source": [
        "Encoder = LabelEncoder()\n",
        "train_y = Encoder.fit_transform(train_y.ravel())\n",
        "valid_y = Encoder.fit_transform(valid_y.ravel())"
      ]
    },
    {
      "cell_type": "code",
      "execution_count": null,
      "metadata": {
        "id": "AzYIkYWEq55r",
        "colab": {
          "base_uri": "https://localhost:8080/"
        },
        "outputId": "3c685d02-414f-4cee-fd5b-fcd832cd3ff3"
      },
      "outputs": [
        {
          "output_type": "stream",
          "name": "stdout",
          "text": [
            "['god', 'need', 'friend', 'god', 'come', 'end', 'god', 'lose', 'mind', 'god', 'find', 'wan', 'na', 'wan', 'na', 'wan', 'na', 'wan', 'na', 'love', 'felt', 'like', 'hate', 'hate', 'felt', 'like', 'love', 'say', 'fear', 'say', 'scar', 'wan', 'na', 'wan', 'na', 'wan', 'na', 'wan', 'na', 'tell', 'believe', 'tell', 'see', 'cause', 'know', 'trust', 'heart', 'fill', 'disgust', 'ca', 'take', 'tell', 'believe', 'tell', 'see', 'cause', 'know', 'trust', 'heart', 'fill', 'disgust', 'tell', 'believe', 'tell', 'believe', 'lady', 'gentleman', 'may', 'attention', 'ready', 'joke', 'ready', 'great', 'deception', 'tell', 'believe', 'tell', 'believe', 'tell', 'believe', 'tell', 'believe', 'tell', 'believe', 'tell', 'believe']\n"
          ]
        }
      ],
      "source": [
        "all_texts = []\n",
        "for items in train_x:\n",
        "    all_texts.append(items)\n",
        "for items in valid_x:\n",
        "    all_texts.append(items)\n",
        "print(all_texts[0])"
      ]
    },
    {
      "cell_type": "code",
      "execution_count": null,
      "metadata": {
        "id": "yAIi6hlxq55r"
      },
      "outputs": [],
      "source": [
        "from sklearn import model_selection, preprocessing, linear_model, naive_bayes, metrics, svm\n",
        "from sklearn.feature_extraction.text import TfidfVectorizer, CountVectorizer\n",
        "from sklearn import decomposition, ensemble\n",
        "\n",
        "import pandas,numpy,xgboost, textblob, string\n",
        "from keras.preprocessing import text, sequence\n",
        "from keras import layers, models, optimizers"
      ]
    },
    {
      "cell_type": "markdown",
      "metadata": {
        "id": "Chi3ysZYq55r"
      },
      "source": [
        "### CountVectorizer-Model\n",
        "CountVectorizer is used to convert a collection of text documents  into a numerical feature matrix\n",
        "\n",
        "Tokenization - make all the sentence into words\n",
        "Counting the frequency of all words and its stored in a sparse matrix"
      ]
    },
    {
      "cell_type": "code",
      "execution_count": null,
      "metadata": {
        "id": "DgXFI456q55s"
      },
      "outputs": [],
      "source": [
        "count_vect = CountVectorizer(analyzer='word')\n",
        "count_vect.fit(all_texts)\n",
        "xtrain_count =  count_vect.transform(train_x)\n",
        "xvalid_count =  count_vect.transform(valid_x)"
      ]
    },
    {
      "cell_type": "markdown",
      "metadata": {
        "id": "-wxQDONJq55s"
      },
      "source": [
        "### TfidfVectorizer Model"
      ]
    },
    {
      "cell_type": "code",
      "execution_count": null,
      "metadata": {
        "id": "pPIkbp0Uq55s"
      },
      "outputs": [],
      "source": [
        "import nltk\n",
        "import string\n",
        "import re\n",
        "\n",
        "porter_stemmer = nltk.stem.porter.PorterStemmer()#Stemming\n",
        "\n",
        "#This function takes a text input, converts it to lowercase,\n",
        "#tokenizes it into words, applies stemming using the Porter stemmer, and removes any non-alphabetic characters.\n",
        "#The result is a list of stemmed words as tokens.\n",
        "\n",
        "def porter_tokenizer(text, stemmer=porter_stemmer):\n",
        "    lower_txt = text.lower()\n",
        "    tokens = nltk.wordpunct_tokenize(lower_txt)\n",
        "    stems = [porter_stemmer.stem(t) for t in tokens]\n",
        "    no_punct = [s for s in stems if re.match('^[a-zA-Z]+$', s) is not None]\n",
        "    return no_punct\n",
        "\n",
        "from sklearn.feature_extraction.text import TfidfVectorizer\n",
        "tfidf_vect = TfidfVectorizer(\n",
        "            encoding='utf-8',\n",
        "            decode_error='replace',\n",
        "            strip_accents='unicode',\n",
        "            analyzer='word',\n",
        "            binary=False,\n",
        "            stop_words=\"english\",\n",
        "            tokenizer=porter_tokenizer\n",
        "    )#Matrix with tfid will returned with each word will analysed each will be a feature"
      ]
    },
    {
      "cell_type": "markdown",
      "metadata": {
        "id": "Y9iTrkuNq55s"
      },
      "source": [
        "### Tfidf-NGram Model\n",
        "In additon to tfid here sequence of n words will be considerd for analysis\n",
        "\n",
        "TF-IDF captures individual word importance, while TF-IDF N-gram considers the importance of word pairs, which can be useful for tasks that require capturing multi-word expressions"
      ]
    },
    {
      "cell_type": "code",
      "execution_count": null,
      "metadata": {
        "id": "IxFqw6XFq55s"
      },
      "outputs": [],
      "source": [
        "tfidf_vect.fit(all_texts)\n",
        "xtrain_tfidf =  tfidf_vect.transform(train_x)\n",
        "xvalid_tfidf =  tfidf_vect.transform(valid_x)\n",
        "\n",
        "tfidf_vect_ngram = TfidfVectorizer(analyzer='word', ngram_range=(2,2), max_features=7000)\n",
        "tfidf_vect_ngram.fit(all_texts)\n",
        "xtrain_tfidf_ngram =  tfidf_vect_ngram.transform(train_x)\n",
        "xvalid_tfidf_ngram =  tfidf_vect_ngram.transform(valid_x)"
      ]
    },
    {
      "cell_type": "markdown",
      "source": [
        "For each model fit the model"
      ],
      "metadata": {
        "id": "VtUueXT6Kt_k"
      }
    },
    {
      "cell_type": "code",
      "execution_count": null,
      "metadata": {
        "id": "BzZsWMJSq55s"
      },
      "outputs": [],
      "source": [
        "def train_model(classifier, feature_vector_train, label, feature_vector_valid, is_neural_net=False):\n",
        "    classifier.fit(feature_vector_train, label)\n",
        "    predictions = classifier.predict(feature_vector_valid)\n",
        "    return metrics.accuracy_score(predictions, valid_y)"
      ]
    },
    {
      "cell_type": "markdown",
      "metadata": {
        "id": "pmDcYo7hq55s"
      },
      "source": [
        "### Multinomial Naive Bayes Model"
      ]
    },
    {
      "cell_type": "code",
      "execution_count": null,
      "metadata": {
        "id": "LeX7-_j3q55t",
        "colab": {
          "base_uri": "https://localhost:8080/"
        },
        "outputId": "384c8fd1-3f3e-4784-dfa6-274588a8b629"
      },
      "outputs": [
        {
          "output_type": "stream",
          "name": "stdout",
          "text": [
            "NB, Count Vectors:  0.5836909871244635\n",
            "NB, WordLevel TF-IDF:  0.4592274678111588\n",
            "NB, N-Gram Vectors:  0.5836909871244635\n"
          ]
        }
      ],
      "source": [
        "accuracy_count_nb = train_model(naive_bayes.MultinomialNB(), xtrain_count, train_y, xvalid_count)\n",
        "print (\"NB, Count Vectors: \", accuracy_count_nb)#Accuracy for count vectorization\n",
        "\n",
        "accuracy_word_nb = train_model(naive_bayes.MultinomialNB(), xtrain_tfidf, train_y, xvalid_tfidf)\n",
        "print (\"NB, WordLevel TF-IDF: \", accuracy_word_nb)#ACcuracy  for tfid vectorization\n",
        "\n",
        "accuracy_ngram_nb = train_model(naive_bayes.MultinomialNB(), xtrain_tfidf_ngram, train_y, xvalid_tfidf_ngram)\n",
        "print (\"NB, N-Gram Vectors: \", accuracy_ngram_nb) #ACcuracy  for tfid n gram vectorization"
      ]
    },
    {
      "cell_type": "markdown",
      "metadata": {
        "id": "gOcgLhrIq55t"
      },
      "source": [
        "### Random Forest Classifier"
      ]
    },
    {
      "cell_type": "code",
      "execution_count": null,
      "metadata": {
        "id": "8cm87SJ6q55t",
        "colab": {
          "base_uri": "https://localhost:8080/"
        },
        "outputId": "aaadeec6-ab63-4c92-a144-8044c7c7847f"
      },
      "outputs": [
        {
          "output_type": "stream",
          "name": "stdout",
          "text": [
            "RF, Count Vectors:  0.6523605150214592\n",
            "RF, WordLevel TF-IDF Vectors:  0.6351931330472103\n",
            "RF, N-Gram Vectors:  0.6266094420600858\n"
          ]
        }
      ],
      "source": [
        "accuracy_count_rf = train_model(RandomForestClassifier(n_estimators=100),xtrain_count,train_y,xvalid_count)\n",
        "print(\"RF, Count Vectors: \",accuracy_count_rf)\n",
        "\n",
        "accuracy_word_rf = train_model(RandomForestClassifier(n_estimators=100),xtrain_tfidf,train_y,xvalid_tfidf)\n",
        "print(\"RF, WordLevel TF-IDF Vectors: \",accuracy_word_rf)\n",
        "\n",
        "accuracy_ngram_rf = train_model(RandomForestClassifier(n_estimators=100),xtrain_tfidf_ngram,train_y,xvalid_tfidf_ngram)\n",
        "print(\"RF, N-Gram Vectors: \",accuracy_ngram_rf)"
      ]
    },
    {
      "cell_type": "markdown",
      "metadata": {
        "id": "ZeyX0dpVq55t"
      },
      "source": [
        "### Logistic Regression Model"
      ]
    },
    {
      "cell_type": "code",
      "execution_count": null,
      "metadata": {
        "id": "HY6OmvIGq55t",
        "colab": {
          "base_uri": "https://localhost:8080/"
        },
        "outputId": "746c1fa8-6ecf-44c1-a9d8-ac482e1afa42"
      },
      "outputs": [
        {
          "output_type": "stream",
          "name": "stdout",
          "text": [
            "LR, Count Vectors:  0.6394849785407726\n",
            "LR, WordLevel TF-IDF:  0.6223175965665236\n",
            "LR, N-Gram Vectors:  0.5836909871244635\n"
          ]
        }
      ],
      "source": [
        "accuracy_count_lc = train_model(linear_model.LogisticRegression(), xtrain_count, train_y, xvalid_count)\n",
        "print (\"LR, Count Vectors: \", accuracy_count_lc)\n",
        "\n",
        "accuracy_word_lc = train_model(linear_model.LogisticRegression(), xtrain_tfidf, train_y, xvalid_tfidf)\n",
        "print (\"LR, WordLevel TF-IDF: \", accuracy_word_lc)\n",
        "\n",
        "accuracy_ngram_lc = train_model(linear_model.LogisticRegression(), xtrain_tfidf_ngram, train_y, xvalid_tfidf_ngram)\n",
        "print (\"LR, N-Gram Vectors: \", accuracy_ngram_lc)"
      ]
    },
    {
      "cell_type": "markdown",
      "metadata": {
        "id": "sRpCvaFEq55t"
      },
      "source": [
        "### XGBoost Classifier"
      ]
    },
    {
      "cell_type": "code",
      "execution_count": null,
      "metadata": {
        "id": "a9hrcU3Sq55u",
        "colab": {
          "base_uri": "https://localhost:8080/"
        },
        "outputId": "4949bf78-72b6-4100-dfed-0bb3a578f668"
      },
      "outputs": [
        {
          "output_type": "stream",
          "name": "stdout",
          "text": [
            "Xgb, Count Vectors:  0.6866952789699571\n",
            "Xgb, WordLevel TF-IDF:  0.630901287553648\n",
            "Xgb, Ngram Level Vectors:  0.5665236051502146\n"
          ]
        }
      ],
      "source": [
        "accuracy_count_bo = train_model(xgboost.XGBClassifier(), xtrain_count.tocsc(), train_y, xvalid_count.tocsc())\n",
        "print (\"Xgb, Count Vectors: \", accuracy_count_bo)\n",
        "\n",
        "accuracy_word_bo = train_model(xgboost.XGBClassifier(), xtrain_tfidf.tocsc(), train_y, xvalid_tfidf.tocsc())\n",
        "print (\"Xgb, WordLevel TF-IDF: \", accuracy_word_bo)\n",
        "\n",
        "accuracy_ngram_bo = train_model(xgboost.XGBClassifier(), xtrain_tfidf_ngram.tocsc(), train_y, xvalid_tfidf_ngram.tocsc())\n",
        "print (\"Xgb, Ngram Level Vectors: \", accuracy_ngram_bo)"
      ]
    },
    {
      "cell_type": "markdown",
      "metadata": {
        "id": "URHcUQ-Wq55u"
      },
      "source": [
        "###  - Random Forest"
      ]
    },
    {
      "cell_type": "code",
      "execution_count": null,
      "metadata": {
        "id": "mIJm4H2Rq55u",
        "colab": {
          "base_uri": "https://localhost:8080/"
        },
        "outputId": "4c87fe16-a226-4ebc-91b5-fd2d1115afee"
      },
      "outputs": [
        {
          "output_type": "stream",
          "name": "stdout",
          "text": [
            "RF, Count Vectors:  0.6523605150214592\n",
            "RF, WordLevel TF-IDF:  0.648068669527897\n",
            "RF, Ngram Vectors:  0.6223175965665236\n"
          ]
        }
      ],
      "source": [
        "accuracy_count_bg = train_model(ensemble.RandomForestClassifier(), xtrain_count, train_y, xvalid_count)\n",
        "print (\"RF, Count Vectors: \", accuracy_count_bg)\n",
        "\n",
        "accuracy_word_bg = train_model(ensemble.RandomForestClassifier(), xtrain_tfidf, train_y, xvalid_tfidf)\n",
        "print (\"RF, WordLevel TF-IDF: \", accuracy_word_bg)\n",
        "\n",
        "accuracy_ngram_bg = train_model(ensemble.RandomForestClassifier(), xtrain_tfidf_ngram, train_y, xvalid_tfidf_ngram)\n",
        "print (\"RF, Ngram Vectors: \", accuracy_ngram_bg)"
      ]
    },
    {
      "cell_type": "code",
      "execution_count": null,
      "metadata": {
        "id": "pUazY7Tiq55u",
        "colab": {
          "base_uri": "https://localhost:8080/"
        },
        "outputId": "b1f48446-c7ce-476b-c2a5-c072b9b89736"
      },
      "outputs": [
        {
          "output_type": "stream",
          "name": "stdout",
          "text": [
            "SVM, Count Vectors:  0.6266094420600858\n",
            "SVM, WordLevel TF-IDF:  0.6523605150214592\n",
            "SVM, Ngram Vectors:  0.6051502145922747\n"
          ]
        }
      ],
      "source": [
        "from sklearn.svm import LinearSVC\n",
        "accuracy_count_svm = train_model(LinearSVC(multi_class=\"ovr\"), xtrain_count, train_y, xvalid_count)\n",
        "print (\"SVM, Count Vectors: \", accuracy_count_svm)\n",
        "\n",
        "accuracy_word_svm = train_model(LinearSVC(multi_class=\"ovr\"), xtrain_tfidf, train_y, xvalid_tfidf)\n",
        "print (\"SVM, WordLevel TF-IDF: \", accuracy_word_svm)\n",
        "\n",
        "accuracy_ngram_svm = train_model(LinearSVC(multi_class=\"ovr\"), xtrain_tfidf_ngram, train_y, xvalid_tfidf_ngram)\n",
        "print (\"SVM, Ngram Vectors: \", accuracy_ngram_svm)"
      ]
    },
    {
      "cell_type": "code",
      "execution_count": null,
      "metadata": {
        "id": "f3iS5sO_q55z"
      },
      "outputs": [],
      "source": [
        "\n",
        "import matplotlib as mpl\n",
        "import numpy as np\n",
        "\n",
        "def plot_cm(X, y, clf, title):\n",
        "\n",
        "    cm = metrics.confusion_matrix(y, clf.predict(X))\n",
        "    print(metrics.classification_report(y, clf.predict(X)))\n",
        "    np.set_printoptions(suppress=True)\n",
        "    mpl.rc(\"figure\", figsize=(10,10))\n",
        "\n",
        "    hm = sns.heatmap(cm,\n",
        "            cbar=False,\n",
        "            annot=True,\n",
        "            square=True,\n",
        "            fmt='d',\n",
        "            yticklabels=['happy','sad','angry','neutral'],\n",
        "            xticklabels=['happy','sad','angry','neutral'],\n",
        "            cmap='Blues'\n",
        "            )\n",
        "    plt.title(title)\n",
        "    plt.ylabel('actual class')\n",
        "    plt.xlabel('predicted class')\n",
        "    plt.tight_layout()\n",
        "    #plt.savefig(\"rf_tfidf.jpg\")\n",
        "    plt.show()\n"
      ]
    },
    {
      "cell_type": "code",
      "execution_count": null,
      "metadata": {
        "id": "_obt7Bxlq55z",
        "colab": {
          "base_uri": "https://localhost:8080/",
          "height": 1000
        },
        "outputId": "b55f589b-5d92-469e-8e7e-f553662dd499"
      },
      "outputs": [
        {
          "output_type": "stream",
          "name": "stdout",
          "text": [
            "              precision    recall  f1-score   support\n",
            "\n",
            "           0       0.78      0.65      0.71        97\n",
            "           1       0.54      0.90      0.68        68\n",
            "           2       1.00      0.33      0.50        12\n",
            "           3       0.69      0.45      0.54        56\n",
            "\n",
            "    accuracy                           0.66       233\n",
            "   macro avg       0.75      0.58      0.61       233\n",
            "weighted avg       0.70      0.66      0.65       233\n",
            "\n"
          ]
        },
        {
          "output_type": "display_data",
          "data": {
            "text/plain": [
              "<Figure size 1000x1000 with 1 Axes>"
            ],
            "image/png": "[encoded data removed]"
          },
          "metadata": {}
        }
      ],
      "source": [
        "# import seaborn as sns\n",
        "import matplotlib.pyplot as plt\n",
        "\n",
        "claf=ensemble.RandomForestClassifier()#create a random forest\n",
        "claf.fit(xtrain_tfidf,train_y)\n",
        "plot_cm(xvalid_tfidf, valid_y, claf, 'Training Word Level - TfidfVectorizer')"
      ]
    },
    {
      "cell_type": "code",
      "execution_count": null,
      "metadata": {
        "id": "eLA7QCJdq550",
        "colab": {
          "base_uri": "https://localhost:8080/",
          "height": 1000
        },
        "outputId": "79eb1822-7ae2-47e8-f29e-ddc3933ef726"
      },
      "outputs": [
        {
          "output_type": "stream",
          "name": "stdout",
          "text": [
            "              precision    recall  f1-score   support\n",
            "\n",
            "           0       0.79      0.66      0.72        97\n",
            "           1       0.59      0.68      0.63        68\n",
            "           2       0.44      0.33      0.38        12\n",
            "           3       0.54      0.62      0.58        56\n",
            "\n",
            "    accuracy                           0.64       233\n",
            "   macro avg       0.59      0.57      0.58       233\n",
            "weighted avg       0.65      0.64      0.64       233\n",
            "\n"
          ]
        },
        {
          "output_type": "display_data",
          "data": {
            "text/plain": [
              "<Figure size 1000x1000 with 1 Axes>"
            ],
            "image/png": "[encoded data removed]"
          },
          "metadata": {}
        }
      ],
      "source": [
        "# import seaborn as sns\n",
        "import matplotlib.pyplot as plt\n",
        "\n",
        "claf=linear_model.LogisticRegression()\n",
        "claf.fit(xtrain_count,train_y)\n",
        "plot_cm(xvalid_count, valid_y, claf, 'Training CountVectorizer')"
      ]
    },
    {
      "cell_type": "code",
      "execution_count": null,
      "metadata": {
        "id": "JVG3gopXq550",
        "colab": {
          "base_uri": "https://localhost:8080/",
          "height": 1000
        },
        "outputId": "a41dd951-b443-4b46-d0c6-bfd389cfb3d3"
      },
      "outputs": [
        {
          "output_type": "stream",
          "name": "stdout",
          "text": [
            "              precision    recall  f1-score   support\n",
            "\n",
            "           0       0.85      0.54      0.66        97\n",
            "           1       0.51      0.81      0.63        68\n",
            "           2       0.80      0.33      0.47        12\n",
            "           3       0.57      0.61      0.59        56\n",
            "\n",
            "    accuracy                           0.62       233\n",
            "   macro avg       0.68      0.57      0.59       233\n",
            "weighted avg       0.68      0.62      0.62       233\n",
            "\n"
          ]
        },
        {
          "output_type": "display_data",
          "data": {
            "text/plain": [
              "<Figure size 1000x1000 with 1 Axes>"
            ],
            "image/png": "[encoded data removed]"
          },
          "metadata": {}
        }
      ],
      "source": [
        "# import seaborn as sns\n",
        "import matplotlib.pyplot as plt\n",
        "\n",
        "claf=ensemble.RandomForestClassifier()\n",
        "claf.fit(xtrain_tfidf_ngram,train_y)\n",
        "plot_cm(xvalid_tfidf_ngram, valid_y, claf, 'Training NGram Vectors ')"
      ]
    },
    {
      "cell_type": "code",
      "execution_count": null,
      "metadata": {
        "scrolled": false,
        "id": "T3_v3VO3q553",
        "colab": {
          "base_uri": "https://localhost:8080/",
          "height": 1000
        },
        "outputId": "4ed44d51-e3c5-4f6b-a228-01614c58882f"
      },
      "outputs": [
        {
          "output_type": "stream",
          "name": "stdout",
          "text": [
            "              precision    recall  f1-score   support\n",
            "\n",
            "           0       0.76      0.69      0.72        97\n",
            "           1       0.64      0.69      0.67        68\n",
            "           2       0.80      0.33      0.47        12\n",
            "           3       0.51      0.61      0.55        56\n",
            "\n",
            "    accuracy                           0.65       233\n",
            "   macro avg       0.68      0.58      0.60       233\n",
            "weighted avg       0.67      0.65      0.65       233\n",
            "\n"
          ]
        },
        {
          "output_type": "display_data",
          "data": {
            "text/plain": [
              "<Figure size 1000x1000 with 1 Axes>"
            ],
            "image/png": "[encoded data removed]"
          },
          "metadata": {}
        }
      ],
      "source": [
        "# import seaborn as sns\n",
        "import matplotlib.pyplot as plt\n",
        "\n",
        "claf=svm.LinearSVC(multi_class=\"ovr\")\n",
        "claf.fit(xtrain_tfidf,train_y)\n",
        "plot_cm(xvalid_tfidf, valid_y, claf, 'Training Word Level - TfidfVectorizer on SVM')"
      ]
    },
    {
      "cell_type": "code",
      "execution_count": null,
      "metadata": {
        "id": "sCCs8xTPq553"
      },
      "outputs": [],
      "source": [
        "def pred(lyrics):\n",
        "    wt=word_tokenize(lyrics)\n",
        "    tag_map = defaultdict(lambda : wn.NOUN)\n",
        "    tag_map['J'] = wn.ADJ\n",
        "    tag_map['V'] = wn.VERB\n",
        "    tag_map['R'] = wn.ADV\n",
        "    Final_words = []\n",
        "    word_Lemmatized = WordNetLemmatizer()\n",
        "    for word, tag in pos_tag(wt):\n",
        "        if word not in stopwords.words('english') and word.isalpha():\n",
        "            word_Final = word_Lemmatized.lemmatize(word,tag_map[tag[0]])\n",
        "            Final_words.append(word_Final)\n",
        "    result = str(Final_words)\n",
        "    df9=pd.DataFrame(columns=[\"lyrics\"])\n",
        "    df9=df9.append({'lyrics':result},ignore_index=True)\n",
        "#     xvalid_count =  count_vect.transform(result)\n",
        "#     res = Encoder.fit_transform(result)\n",
        "    testx=df9['lyrics']\n",
        "#     print(testx.shape)\n",
        "    xvalid_tfidf =  tfidf_vect.transform(testx)\n",
        "    y=claf.predict(xvalid_tfidf)\n",
        "    if y==0:\n",
        "        return \"Happy\"\n",
        "    elif(y==1):\n",
        "        return \"Sad\"\n",
        "    elif(y==2):\n",
        "        return \"Angry\"\n",
        "    elif(y==3):\n",
        "        return \"Neutral\"\n",
        "\n"
      ]
    },
    {
      "cell_type": "code",
      "source": [
        "!pip install googletrans\n",
        "!pip install deep_translator"
      ],
      "metadata": {
        "id": "LU8IkHBBPpqS",
        "colab": {
          "base_uri": "https://localhost:8080/",
          "height": 1000
        },
        "outputId": "e064648d-fc8c-47e6-b3c2-346431ca676b"
      },
      "execution_count": null,
      "outputs": [
        {
          "output_type": "stream",
          "name": "stdout",
          "text": [
            "Collecting googletrans\n",
            "  Downloading googletrans-3.0.0.tar.gz (17 kB)\n",
            "  Preparing metadata (setup.py) ... \u001b[?25l\u001b[?25hdone\n",
            "Collecting httpx==0.13.3 (from googletrans)\n",
            "  Downloading httpx-0.13.3-py3-none-any.whl (55 kB)\n",
            "\u001b[2K     \u001b[90m━━━━━━━━━━━━━━━━━━━━━━━━━━━━━━━━━━━━━━━━\u001b[0m \u001b[32m55.1/55.1 kB\u001b[0m \u001b[31m1.9 MB/s\u001b[0m eta \u001b[36m0:00:00\u001b[0m\n",
            "\u001b[?25hRequirement already satisfied: certifi in /usr/local/lib/python3.10/dist-packages (from httpx==0.13.3->googletrans) (2023.7.22)\n",
            "Collecting hstspreload (from httpx==0.13.3->googletrans)\n",
            "  Downloading hstspreload-2023.1.1-py3-none-any.whl (1.5 MB)\n",
            "\u001b[2K     \u001b[90m━━━━━━━━━━━━━━━━━━━━━━━━━━━━━━━━━━━━━━━━\u001b[0m \u001b[32m1.5/1.5 MB\u001b[0m \u001b[31m23.3 MB/s\u001b[0m eta \u001b[36m0:00:00\u001b[0m\n",
            "\u001b[?25hRequirement already satisfied: sniffio in /usr/local/lib/python3.10/dist-packages (from httpx==0.13.3->googletrans) (1.3.0)\n",
            "Collecting chardet==3.* (from httpx==0.13.3->googletrans)\n",
            "  Downloading chardet-3.0.4-py2.py3-none-any.whl (133 kB)\n",
            "\u001b[2K     \u001b[90m━━━━━━━━━━━━━━━━━━━━━━━━━━━━━━━━━━━━━━━━\u001b[0m \u001b[32m133.4/133.4 kB\u001b[0m \u001b[31m15.4 MB/s\u001b[0m eta \u001b[36m0:00:00\u001b[0m\n",
            "\u001b[?25hCollecting idna==2.* (from httpx==0.13.3->googletrans)\n",
            "  Downloading idna-2.10-py2.py3-none-any.whl (58 kB)\n",
            "\u001b[2K     \u001b[90m━━━━━━━━━━━━━━━━━━━━━━━━━━━━━━━━━━━━━━━━\u001b[0m \u001b[32m58.8/58.8 kB\u001b[0m \u001b[31m6.9 MB/s\u001b[0m eta \u001b[36m0:00:00\u001b[0m\n",
            "\u001b[?25hCollecting rfc3986<2,>=1.3 (from httpx==0.13.3->googletrans)\n",
            "  Downloading rfc3986-1.5.0-py2.py3-none-any.whl (31 kB)\n",
            "Collecting httpcore==0.9.* (from httpx==0.13.3->googletrans)\n",
            "  Downloading httpcore-0.9.1-py3-none-any.whl (42 kB)\n",
            "\u001b[2K     \u001b[90m━━━━━━━━━━━━━━━━━━━━━━━━━━━━━━━━━━━━━━━━\u001b[0m \u001b[32m42.6/42.6 kB\u001b[0m \u001b[31m4.6 MB/s\u001b[0m eta \u001b[36m0:00:00\u001b[0m\n",
            "\u001b[?25hCollecting h11<0.10,>=0.8 (from httpcore==0.9.*->httpx==0.13.3->googletrans)\n",
            "  Downloading h11-0.9.0-py2.py3-none-any.whl (53 kB)\n",
            "\u001b[2K     \u001b[90m━━━━━━━━━━━━━━━━━━━━━━━━━━━━━━━━━━━━━━━━\u001b[0m \u001b[32m53.6/53.6 kB\u001b[0m \u001b[31m5.7 MB/s\u001b[0m eta \u001b[36m0:00:00\u001b[0m\n",
            "\u001b[?25hCollecting h2==3.* (from httpcore==0.9.*->httpx==0.13.3->googletrans)\n",
            "  Downloading h2-3.2.0-py2.py3-none-any.whl (65 kB)\n",
            "\u001b[2K     \u001b[90m━━━━━━━━━━━━━━━━━━━━━━━━━━━━━━━━━━━━━━━━\u001b[0m \u001b[32m65.0/65.0 kB\u001b[0m \u001b[31m6.3 MB/s\u001b[0m eta \u001b[36m0:00:00\u001b[0m\n",
            "\u001b[?25hCollecting hyperframe<6,>=5.2.0 (from h2==3.*->httpcore==0.9.*->httpx==0.13.3->googletrans)\n",
            "  Downloading hyperframe-5.2.0-py2.py3-none-any.whl (12 kB)\n",
            "Collecting hpack<4,>=3.0 (from h2==3.*->httpcore==0.9.*->httpx==0.13.3->googletrans)\n",
            "  Downloading hpack-3.0.0-py2.py3-none-any.whl (38 kB)\n",
            "Building wheels for collected packages: googletrans\n",
            "  Building wheel for googletrans (setup.py) ... \u001b[?25l\u001b[?25hdone\n",
            "  Created wheel for googletrans: filename=googletrans-3.0.0-py3-none-any.whl size=15716 sha256=0c968ce83788fe5a64adde677bd081b67c0c74f997237e40e0a83893d4628897\n",
            "  Stored in directory: /root/.cache/pip/wheels/b3/81/ea/8b030407f8ebfc2f857814e086bb22ca2d4fea1a7be63652ab\n",
            "Successfully built googletrans\n",
            "Installing collected packages: rfc3986, hyperframe, hpack, h11, chardet, idna, hstspreload, h2, httpcore, httpx, googletrans\n",
            "  Attempting uninstall: chardet\n",
            "    Found existing installation: chardet 5.2.0\n",
            "    Uninstalling chardet-5.2.0:\n",
            "      Successfully uninstalled chardet-5.2.0\n",
            "  Attempting uninstall: idna\n",
            "    Found existing installation: idna 3.4\n",
            "    Uninstalling idna-3.4:\n",
            "      Successfully uninstalled idna-3.4\n",
            "Successfully installed chardet-3.0.4 googletrans-3.0.0 h11-0.9.0 h2-3.2.0 hpack-3.0.0 hstspreload-2023.1.1 httpcore-0.9.1 httpx-0.13.3 hyperframe-5.2.0 idna-2.10 rfc3986-1.5.0\n"
          ]
        },
        {
          "output_type": "display_data",
          "data": {
            "application/vnd.colab-display-data+json": {
              "pip_warning": {
                "packages": [
                  "chardet",
                  "idna"
                ]
              }
            }
          },
          "metadata": {}
        },
        {
          "output_type": "stream",
          "name": "stdout",
          "text": [
            "Collecting deep_translator\n",
            "  Downloading deep_translator-1.11.4-py3-none-any.whl (42 kB)\n",
            "\u001b[2K     \u001b[90m━━━━━━━━━━━━━━━━━━━━━━━━━━━━━━━━━━━━━━━━\u001b[0m \u001b[32m42.3/42.3 kB\u001b[0m \u001b[31m736.1 kB/s\u001b[0m eta \u001b[36m0:00:00\u001b[0m\n",
            "\u001b[?25hRequirement already satisfied: beautifulsoup4<5.0.0,>=4.9.1 in /usr/local/lib/python3.10/dist-packages (from deep_translator) (4.11.2)\n",
            "Requirement already satisfied: requests<3.0.0,>=2.23.0 in /usr/local/lib/python3.10/dist-packages (from deep_translator) (2.31.0)\n",
            "Requirement already satisfied: soupsieve>1.2 in /usr/local/lib/python3.10/dist-packages (from beautifulsoup4<5.0.0,>=4.9.1->deep_translator) (2.5)\n",
            "Requirement already satisfied: charset-normalizer<4,>=2 in /usr/local/lib/python3.10/dist-packages (from requests<3.0.0,>=2.23.0->deep_translator) (3.3.1)\n",
            "Requirement already satisfied: idna<4,>=2.5 in /usr/local/lib/python3.10/dist-packages (from requests<3.0.0,>=2.23.0->deep_translator) (2.10)\n",
            "Requirement already satisfied: urllib3<3,>=1.21.1 in /usr/local/lib/python3.10/dist-packages (from requests<3.0.0,>=2.23.0->deep_translator) (2.0.7)\n",
            "Requirement already satisfied: certifi>=2017.4.17 in /usr/local/lib/python3.10/dist-packages (from requests<3.0.0,>=2.23.0->deep_translator) (2023.7.22)\n",
            "Installing collected packages: deep_translator\n",
            "Successfully installed deep_translator-1.11.4\n"
          ]
        }
      ]
    },
    {
      "cell_type": "code",
      "execution_count": null,
      "metadata": {
        "id": "deWFa3Sfq553",
        "colab": {
          "base_uri": "https://localhost:8080/",
          "height": 36
        },
        "outputId": "5f80f5d2-e762-4cf4-aa9a-001ccac8c395"
      },
      "outputs": [
        {
          "output_type": "stream",
          "name": "stdout",
          "text": [
            "Tag: "
          ]
        },
        {
          "output_type": "execute_result",
          "data": {
            "text/plain": [
              "'Sad'"
            ],
            "application/vnd.google.colaboratory.intrinsic+json": {
              "type": "string"
            }
          },
          "metadata": {},
          "execution_count": 30
        }
      ],
      "source": [
        "ly = \"\"\"The club isn't the best place to find a lover\n",
        "So the bar is where I go\n",
        "Me and my friends at the table doing shots\n",
        "Drinking fast and then we talk slow\n",
        "Come over and start up a conversation with just me\n",
        "And trust me I'll give it a chance now\n",
        "Take my hand, stop, put Van the Man on the jukebox\n",
        "And then we start to dance, and now I'm singing like\n",
        "Girl, you know I want your love\n",
        "Your love was handmade for somebody like me\n",
        "Come on now, follow my lead\n",
        "I may be crazy, don't mind me\n",
        "Say, boy, let's not talk too much\n",
        "Grab on my waist and put that body on me\n",
        "Come on now, follow my lead\n",
        "Come, come on now, follow my lead\n",
        "I'm in love with the shape of you\n",
        "We push and pull like a magnet do\n",
        "Although my heart is falling too\n",
        "I'm in love with your body\n",
        "Last night you were in my room\n",
        "And now my bedsheets smell like you\n",
        "Every day discovering something brand new\n",
        "I'm in love with your body\n",
        "(Oh-I-oh-I-oh-I-oh-I)\n",
        "I'm in love with your body\n",
        "(Oh-I-oh-I-oh-I-oh-I)\n",
        "I'm in love with your body\n",
        "(Oh-I-oh-I-oh-I-oh-I)\n",
        "I'm in love with your body\n",
        "Every day discovering something brand new\n",
        "I'm in love with the shape of you\n",
        "One week in we let the story begin\n",
        "We're going out on our first date\n",
        "You and me are thrifty, so go all you can eat\n",
        "Fill up your bag and I fill up a plate\n",
        "We talk for hours and hours about the sweet and the sour\n",
        "And how your family is doing okay\n",
        "And leave and get in a taxi, then kiss in the backseat\n",
        "Tell the driver make the radio play, and I'm singing like\n",
        "Girl, you know I want your love\n",
        "Your love was handmade for somebody like me\n",
        "Come on now, follow my lead\n",
        "I may be crazy, don't mind me\n",
        "Say, boy, let's not talk too much\n",
        "Grab on my waist and put that body on me\n",
        "Come on now, follow my lead\n",
        "Come, come on now, follow my lead\n",
        "I'm in love with the shape of you\n",
        "We push and pull like a magnet do\n",
        "Although my heart is falling too\n",
        "I'm in love with your body\n",
        "Last night you were in my room\n",
        "And now my bedsheets smell like you\n",
        "Every day discovering something brand new\n",
        "I'm in love with your body\n",
        "(Oh-I-oh-I-oh-I-oh-I)\n",
        "I'm in love with your body\n",
        "(Oh-I-oh-I-oh-I-oh-I)\n",
        "I'm in love with your body\n",
        "(Oh-I-oh-I-oh-I-oh-I)\n",
        "I'm in love with your body\n",
        "Every day discovering something brand new\n",
        "I'm in love with the shape of you\n",
        "Come on, be my baby, come on\n",
        "Come on, be my baby, come on\n",
        "Come on, be my baby, come on\n",
        "Come on, be my baby, come on\n",
        "Come on, be my baby, come on\n",
        "Come on, be my baby, come on\n",
        "Come on, be my baby, come on\n",
        "Come on, be my baby, come on\n",
        "I'm in love with the shape of you\n",
        "We push and pull like a magnet do\n",
        "Although my heart is falling too\n",
        "I'm in love with your body\n",
        "Last night you were in my room\n",
        "And now my bedsheets smell like you\n",
        "Every day discovering something brand new\n",
        "I'm in love with your body\n",
        "Come on, be my baby, come on\n",
        "Come on (I'm in love with your body), be my baby, come on\n",
        "Come on, be my baby, come on\n",
        "Come on (I'm in love with your body), be my baby, come on\n",
        "Come on, be my baby, come on\n",
        "Come on (I'm in love with your body), be my baby, come on\n",
        "Every day discovering something brand new\n",
        "I'm in love with the shape of you\"\"\"\n",
        "pred(lyrics = ly)"
      ]
    },
    {
      "cell_type": "code",
      "source": [
        "from deep_translator import GoogleTranslator\n",
        "\n",
        "# Define the text in Tamil script\n",
        "tamil_text = \"\"\"\n",
        "ஆத்தா ஆத்தா கண்ணால பாத்தா\n",
        "ஹீட்டா ஹீட்டா லுக்க விட்டா\n",
        "பீட்டா பீட்டா வந்தாளே ட்ரீட்டா\n",
        "ஸ்லிப் ஆன லிப்பால கொக்கா மக்கா\n",
        "\n",
        "ஹே ஜிமிக்கி ஜிமிக்கி ஜிமிக்கி பொண்ணு\n",
        "மினுக்கி மினுக்கி மினுக்கி கண்ணு\n",
        "வருதே அலையாட்டம்\n",
        "வாக்கிங் வரும் சாக்லேட் செலையாட்டம்\n",
        "\n",
        "ஹே டஸ்கி டஸ்கி டஸ்கி ரோஸூ\n",
        "ஹஸ்கி ஹஸ்கி ஹஸ்கி வாய்சு\n",
        "தூறல் அழகாட்டம்\n",
        "ஊருக்குள்ள ஏஞ்சல் நடமாட்டம்\n",
        "\n",
        "என்ன கட்டி இழுத்தவன் நீ தானே\n",
        "நானும் இப்போ உனக்கொரு ஃபேன் தானே\n",
        "மெல்ல வந்து ஒரசுற ஷாக்குல\n",
        "உயிருல தாக்குற கலவர கோள் நீயே\n",
        "\n",
        "எக்க சக்க அழகனும் நீ தானே\n",
        "கொஞ்சம் கொஞ்சம் பழகணும் நான் தானே\n",
        "உன் அழக வரையுற கையில\n",
        "கரையுர மையுல அமுதத்த தெளிச்சானே\n",
        "\n",
        "அன்றங்கே வந்ததும் இந்த நிலவா\n",
        "இன்றிங்கே வந்ததும் அந்த நிலவா\n",
        "இன்பம் பெறும் இருவர் கண்ணுக்கும்\n",
        "வெண்ணிலவு ஒன்றே அல்லவா\n",
        "\n",
        "ஹே நீ நீ மேக்கப் பண்ண\n",
        "நிலாவில் கர ஒண்ணு உண்டாக்குதே\n",
        "\n",
        "ஹே கண்ணாடி நீ தான்டி\n",
        "உடையுறேன் நான் இங்க\n",
        "உங்க வீட்டு நேம் போர்டில்\n",
        "மாமனோட பேரெங்க\n",
        "\n",
        "ஃப்ரெண்ட் சோனு வேரோட கட் ஆகுது\n",
        "உன்னோட என் லைஃபு செட் ஆகுது\n",
        "உன் ஹார்ட் என்னோட ஹட் ஆகுது\n",
        "ஓடாதே ஒன்னாலே ஸ்லிப் ஆகுது\n",
        "\n",
        "டின்னருக்கு உன் முத்தம் ஒரு கப்பு\n",
        "டாக்டருக்கு உன்ன குடு என்ன தப்பு\n",
        "ஹீட் பண்ணி குறு குறு பாக்குற\n",
        "குறும்புல சாய்க்குற எகுறுது உன் ஹைப்பு\n",
        "\n",
        "ஏ ஆத்தா ஆத்தா கண்ணால பாத்தா\n",
        "ஹீட்டா ஹீட்டா லுக்க விட்டா\n",
        "பீட்டா பீட்டா வந்தாளே ட்ரீட்டா\n",
        "ஸ்லிப் ஆன லிப்பால கொக்கா மக்கா\n",
        "\n",
        "அன்றங்கே வந்ததும் இந்த நிலவா\n",
        "இன்றிங்கே வந்ததும் அந்த நிலவா\n",
        "இன்பம் பெறும் இருவர் கண்ணுக்கும்\n",
        "வெண்ணிலவு ஒன்றே அல்லவா\n",
        "\n",
        "\n",
        "\"\"\"\n",
        "\n",
        "# Translate Tamil to English\n",
        "english_translation = GoogleTranslator(source='ta', target='en').translate(tamil_text)\n",
        "\n",
        "\n",
        "#print(f\"English Translation: {english_translation}\")\n",
        "pred(english_translation)\n"
      ],
      "metadata": {
        "id": "PEpZqr2fDQ6U",
        "colab": {
          "base_uri": "https://localhost:8080/",
          "height": 36
        },
        "outputId": "55a05b8c-412c-4152-a3d3-05f52d68209e"
      },
      "execution_count": null,
      "outputs": [
        {
          "output_type": "stream",
          "name": "stdout",
          "text": [
            "Tag: "
          ]
        },
        {
          "output_type": "execute_result",
          "data": {
            "text/plain": [
              "'Happy'"
            ],
            "application/vnd.google.colaboratory.intrinsic+json": {
              "type": "string"
            }
          },
          "metadata": {},
          "execution_count": 31
        }
      ]
    },
    {
      "cell_type": "code",
      "source": [
        "from google.colab import drive\n",
        "drive.mount('/content/drive')"
      ],
      "metadata": {
        "colab": {
          "base_uri": "https://localhost:8080/"
        },
        "id": "uyD8ngm4gu8z",
        "outputId": "3991eb9c-d9b5-4368-c60c-0959f95e6827"
      },
      "execution_count": null,
      "outputs": [
        {
          "output_type": "stream",
          "name": "stdout",
          "text": [
            "Mounted at /content/drive\n"
          ]
        }
      ]
    },
    {
      "cell_type": "code",
      "source": [
        "import os\n",
        "import shutil\n"
      ],
      "metadata": {
        "id": "jhXltZOtOsI7"
      },
      "execution_count": null,
      "outputs": []
    },
    {
      "cell_type": "code",
      "source": [
        "folder_path = \"/content/drive/MyDrive/music\"\n",
        "\n",
        "toCreate = \"/content/drive/MyDrive/music\"\n",
        "\n"
      ],
      "metadata": {
        "id": "kFk2YZ3xhDiV"
      },
      "execution_count": null,
      "outputs": []
    },
    {
      "cell_type": "code",
      "source": [
        "\n",
        "file_path = '/content/drive/MyDrive/MusicLyrics.txt'\n",
        "\n",
        "song_paths = []\n",
        "song_lyrics = []\n",
        "current_song_path = None\n",
        "current_lyrics = \"\"\n",
        "\n",
        "with open(file_path, 'r', encoding='utf-8') as file:\n",
        "    for line in file:\n",
        "        if line.strip().endswith('.mp3'):\n",
        "            if current_song_path:\n",
        "                song_paths.append(current_song_path)\n",
        "                song_lyrics.append(current_lyrics.strip())\n",
        "                current_lyrics = \"\"\n",
        "            current_song_path = line.strip()\n",
        "        else:\n",
        "            current_lyrics += line\n",
        "    if current_song_path and current_lyrics:\n",
        "        song_paths.append(current_song_path)\n",
        "        song_lyrics.append(current_lyrics.strip())\n",
        "\n"
      ],
      "metadata": {
        "id": "1sO1EH6jp4X8"
      },
      "execution_count": null,
      "outputs": []
    },
    {
      "cell_type": "code",
      "source": [
        "for i in range(len(song_paths)):\n",
        "    try:\n",
        "      english = GoogleTranslator(source='ta', target='en').translate(song_lyrics[i])\n",
        "      emotion = pred(english)\n",
        "      toCreate = folder_path + emotion\n",
        "      if not os.path.exists(toCreate):\n",
        "        os.mkdir(toCreate)\n",
        "\n",
        "      destination_music_file = os.path.join(toCreate , os.path.basename(song_paths[i]))\n",
        "\n",
        "      shutil.copy(song_paths[i] , destination_music_file)\n",
        "\n",
        "    except:\n",
        "      pass\n",
        "\n",
        "\n"
      ],
      "metadata": {
        "colab": {
          "base_uri": "https://localhost:8080/"
        },
        "id": "-l7220gkhpcQ",
        "outputId": "0791271f-843f-48c1-ebb7-e333e7bcea21"
      },
      "execution_count": null,
      "outputs": [
        {
          "output_type": "stream",
          "name": "stdout",
          "text": [
            "Tag: Tag: Tag: Tag: Tag: Tag: Tag: Tag: Tag: Tag: Tag: Tag: Tag: Tag: Tag: Tag: Tag: Tag: Tag: Tag: Tag: Tag: Tag: "
          ]
        }
      ]
    }
  ],
  "metadata": {
    "kernelspec": {
      "display_name": "Python 3",
      "language": "python",
      "name": "python3"
    },
    "language_info": {
      "codemirror_mode": {
        "name": "ipython",
        "version": 3
      },
      "file_extension": ".py",
      "mimetype": "text/x-python",
      "name": "python",
      "nbconvert_exporter": "python",
      "pygments_lexer": "ipython3",
      "version": "3.7.3"
    },
    "colab": {
      "provenance": []
    }
  },
  "nbformat": 4,
  "nbformat_minor": 0
}
